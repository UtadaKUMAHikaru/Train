{
 "cells": [
  {
   "cell_type": "code",
   "execution_count": 2,
   "source": [
    "import os\n",
    "if not os.path.exists(\"路径\"):\n",
    "    os.mkdir('路径')\n",
    "for i in range(100):\n",
    "    os.mkdir(f'路径/{i+1}')"
   ],
   "outputs": [],
   "metadata": {}
  }
 ],
 "metadata": {
  "orig_nbformat": 4,
  "language_info": {
   "name": "python",
   "version": "3.6.13",
   "mimetype": "text/x-python",
   "codemirror_mode": {
    "name": "ipython",
    "version": 3
   },
   "pygments_lexer": "ipython3",
   "nbconvert_exporter": "python",
   "file_extension": ".py"
  },
  "kernelspec": {
   "name": "python3",
   "display_name": "Python 3.6.13 64-bit ('pytorch': conda)"
  },
  "interpreter": {
   "hash": "4625f90f5843e7a4428277b2194844a0e9a6a98245d253a0507cd02e7fde752c"
  }
 },
 "nbformat": 4,
 "nbformat_minor": 2
}