{
 "cells": [
  {
   "cell_type": "code",
   "execution_count": 46,
   "source": [
    "import time, re\n",
    "current_time=time.ctime()\n",
    "current_time"
   ],
   "outputs": [
    {
     "output_type": "execute_result",
     "data": {
      "text/plain": [
       "'Sat Dec 18 17:28:25 2021'"
      ]
     },
     "metadata": {},
     "execution_count": 46
    }
   ],
   "metadata": {}
  },
  {
   "cell_type": "code",
   "execution_count": 47,
   "source": [
    "time.time()"
   ],
   "outputs": [
    {
     "output_type": "execute_result",
     "data": {
      "text/plain": [
       "1639819705.526646"
      ]
     },
     "metadata": {},
     "execution_count": 47
    }
   ],
   "metadata": {}
  },
  {
   "cell_type": "code",
   "execution_count": 48,
   "source": [
    "hour=re.search('(\\d\\d):',current_time).group(1)\n",
    "hour"
   ],
   "outputs": [
    {
     "output_type": "execute_result",
     "data": {
      "text/plain": [
       "'17'"
      ]
     },
     "metadata": {},
     "execution_count": 48
    }
   ],
   "metadata": {}
  },
  {
   "cell_type": "code",
   "execution_count": 49,
   "source": [
    "min=re.search(':(\\d\\d):',current_time).group(1)\n",
    "min"
   ],
   "outputs": [
    {
     "output_type": "execute_result",
     "data": {
      "text/plain": [
       "'28'"
      ]
     },
     "metadata": {},
     "execution_count": 49
    }
   ],
   "metadata": {}
  },
  {
   "cell_type": "code",
   "execution_count": 50,
   "source": [
    "last_hour=int(hour)-1\n",
    "min_list=[(i + int(min) + 1) % 60 for i in range(60)]\n",
    "min_list"
   ],
   "outputs": [
    {
     "output_type": "execute_result",
     "data": {
      "text/plain": [
       "[29,\n",
       " 30,\n",
       " 31,\n",
       " 32,\n",
       " 33,\n",
       " 34,\n",
       " 35,\n",
       " 36,\n",
       " 37,\n",
       " 38,\n",
       " 39,\n",
       " 40,\n",
       " 41,\n",
       " 42,\n",
       " 43,\n",
       " 44,\n",
       " 45,\n",
       " 46,\n",
       " 47,\n",
       " 48,\n",
       " 49,\n",
       " 50,\n",
       " 51,\n",
       " 52,\n",
       " 53,\n",
       " 54,\n",
       " 55,\n",
       " 56,\n",
       " 57,\n",
       " 58,\n",
       " 59,\n",
       " 0,\n",
       " 1,\n",
       " 2,\n",
       " 3,\n",
       " 4,\n",
       " 5,\n",
       " 6,\n",
       " 7,\n",
       " 8,\n",
       " 9,\n",
       " 10,\n",
       " 11,\n",
       " 12,\n",
       " 13,\n",
       " 14,\n",
       " 15,\n",
       " 16,\n",
       " 17,\n",
       " 18,\n",
       " 19,\n",
       " 20,\n",
       " 21,\n",
       " 22,\n",
       " 23,\n",
       " 24,\n",
       " 25,\n",
       " 26,\n",
       " 27,\n",
       " 28]"
      ]
     },
     "metadata": {},
     "execution_count": 50
    }
   ],
   "metadata": {}
  },
  {
   "cell_type": "code",
   "execution_count": 51,
   "source": [
    "h=last_hour\n",
    "strf_list=[]\n",
    "\n",
    "# strf_list=[if m == 0 for m in min_list]"
   ],
   "outputs": [],
   "metadata": {}
  },
  {
   "cell_type": "code",
   "execution_count": 52,
   "source": [
    "for m in min_list:\n",
    "    if m == 0:\n",
    "        h+=1\n",
    "    strf_list.append(re.sub('\\d\\d:\\d\\d:\\d\\d','{:0>2d}:{:0>2d}:00'.format(h,m),current_time))\n",
    "strf_list"
   ],
   "outputs": [
    {
     "output_type": "execute_result",
     "data": {
      "text/plain": [
       "['Sat Dec 18 16:29:00 2021',\n",
       " 'Sat Dec 18 16:30:00 2021',\n",
       " 'Sat Dec 18 16:31:00 2021',\n",
       " 'Sat Dec 18 16:32:00 2021',\n",
       " 'Sat Dec 18 16:33:00 2021',\n",
       " 'Sat Dec 18 16:34:00 2021',\n",
       " 'Sat Dec 18 16:35:00 2021',\n",
       " 'Sat Dec 18 16:36:00 2021',\n",
       " 'Sat Dec 18 16:37:00 2021',\n",
       " 'Sat Dec 18 16:38:00 2021',\n",
       " 'Sat Dec 18 16:39:00 2021',\n",
       " 'Sat Dec 18 16:40:00 2021',\n",
       " 'Sat Dec 18 16:41:00 2021',\n",
       " 'Sat Dec 18 16:42:00 2021',\n",
       " 'Sat Dec 18 16:43:00 2021',\n",
       " 'Sat Dec 18 16:44:00 2021',\n",
       " 'Sat Dec 18 16:45:00 2021',\n",
       " 'Sat Dec 18 16:46:00 2021',\n",
       " 'Sat Dec 18 16:47:00 2021',\n",
       " 'Sat Dec 18 16:48:00 2021',\n",
       " 'Sat Dec 18 16:49:00 2021',\n",
       " 'Sat Dec 18 16:50:00 2021',\n",
       " 'Sat Dec 18 16:51:00 2021',\n",
       " 'Sat Dec 18 16:52:00 2021',\n",
       " 'Sat Dec 18 16:53:00 2021',\n",
       " 'Sat Dec 18 16:54:00 2021',\n",
       " 'Sat Dec 18 16:55:00 2021',\n",
       " 'Sat Dec 18 16:56:00 2021',\n",
       " 'Sat Dec 18 16:57:00 2021',\n",
       " 'Sat Dec 18 16:58:00 2021',\n",
       " 'Sat Dec 18 16:59:00 2021',\n",
       " 'Sat Dec 18 17:00:00 2021',\n",
       " 'Sat Dec 18 17:01:00 2021',\n",
       " 'Sat Dec 18 17:02:00 2021',\n",
       " 'Sat Dec 18 17:03:00 2021',\n",
       " 'Sat Dec 18 17:04:00 2021',\n",
       " 'Sat Dec 18 17:05:00 2021',\n",
       " 'Sat Dec 18 17:06:00 2021',\n",
       " 'Sat Dec 18 17:07:00 2021',\n",
       " 'Sat Dec 18 17:08:00 2021',\n",
       " 'Sat Dec 18 17:09:00 2021',\n",
       " 'Sat Dec 18 17:10:00 2021',\n",
       " 'Sat Dec 18 17:11:00 2021',\n",
       " 'Sat Dec 18 17:12:00 2021',\n",
       " 'Sat Dec 18 17:13:00 2021',\n",
       " 'Sat Dec 18 17:14:00 2021',\n",
       " 'Sat Dec 18 17:15:00 2021',\n",
       " 'Sat Dec 18 17:16:00 2021',\n",
       " 'Sat Dec 18 17:17:00 2021',\n",
       " 'Sat Dec 18 17:18:00 2021',\n",
       " 'Sat Dec 18 17:19:00 2021',\n",
       " 'Sat Dec 18 17:20:00 2021',\n",
       " 'Sat Dec 18 17:21:00 2021',\n",
       " 'Sat Dec 18 17:22:00 2021',\n",
       " 'Sat Dec 18 17:23:00 2021',\n",
       " 'Sat Dec 18 17:24:00 2021',\n",
       " 'Sat Dec 18 17:25:00 2021',\n",
       " 'Sat Dec 18 17:26:00 2021',\n",
       " 'Sat Dec 18 17:27:00 2021',\n",
       " 'Sat Dec 18 17:28:00 2021']"
      ]
     },
     "metadata": {},
     "execution_count": 52
    }
   ],
   "metadata": {}
  },
  {
   "cell_type": "code",
   "execution_count": 53,
   "source": [
    "for i in strf_list:\n",
    "    print (time.mktime(time.strptime(i,\"%a %b %d %H:%M:%S %Y\")))"
   ],
   "outputs": [
    {
     "output_type": "stream",
     "name": "stdout",
     "text": [
      "1639816140.0\n",
      "1639816200.0\n",
      "1639816260.0\n",
      "1639816320.0\n",
      "1639816380.0\n",
      "1639816440.0\n",
      "1639816500.0\n",
      "1639816560.0\n",
      "1639816620.0\n",
      "1639816680.0\n",
      "1639816740.0\n",
      "1639816800.0\n",
      "1639816860.0\n",
      "1639816920.0\n",
      "1639816980.0\n",
      "1639817040.0\n",
      "1639817100.0\n",
      "1639817160.0\n",
      "1639817220.0\n",
      "1639817280.0\n",
      "1639817340.0\n",
      "1639817400.0\n",
      "1639817460.0\n",
      "1639817520.0\n",
      "1639817580.0\n",
      "1639817640.0\n",
      "1639817700.0\n",
      "1639817760.0\n",
      "1639817820.0\n",
      "1639817880.0\n",
      "1639817940.0\n",
      "1639818000.0\n",
      "1639818060.0\n",
      "1639818120.0\n",
      "1639818180.0\n",
      "1639818240.0\n",
      "1639818300.0\n",
      "1639818360.0\n",
      "1639818420.0\n",
      "1639818480.0\n",
      "1639818540.0\n",
      "1639818600.0\n",
      "1639818660.0\n",
      "1639818720.0\n",
      "1639818780.0\n",
      "1639818840.0\n",
      "1639818900.0\n",
      "1639818960.0\n",
      "1639819020.0\n",
      "1639819080.0\n",
      "1639819140.0\n",
      "1639819200.0\n",
      "1639819260.0\n",
      "1639819320.0\n",
      "1639819380.0\n",
      "1639819440.0\n",
      "1639819500.0\n",
      "1639819560.0\n",
      "1639819620.0\n",
      "1639819680.0\n"
     ]
    }
   ],
   "metadata": {}
  }
 ],
 "metadata": {
  "orig_nbformat": 4,
  "language_info": {
   "name": "python",
   "version": "3.9.5",
   "mimetype": "text/x-python",
   "codemirror_mode": {
    "name": "ipython",
    "version": 3
   },
   "pygments_lexer": "ipython3",
   "nbconvert_exporter": "python",
   "file_extension": ".py"
  },
  "kernelspec": {
   "name": "python3",
   "display_name": "Python 3.9.5 64-bit ('playwright': conda)"
  },
  "interpreter": {
   "hash": "168b01abf9adc0f44c95f7787c02338823e7da6b9670fc3e6fb3557e53c1a55d"
  }
 },
 "nbformat": 4,
 "nbformat_minor": 2
}